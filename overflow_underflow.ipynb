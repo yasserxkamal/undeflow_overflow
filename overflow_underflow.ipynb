{
 "cells": [
  {
   "cell_type": "markdown",
   "metadata": {},
   "source": [
    "# Gestion des problèmes d'Overflow et d'Underflow"
   ]
  },
  {
   "cell_type": "markdown",
   "metadata": {},
   "source": [
    "Dans cette notebook, nous allons explorer les problèmes d'overflow et d'underflow, en expliquant ces concepts et en montrant comment les fonctions mathématiques peuvent être utilisées pour les résoudre."
   ]
  },
  {
   "cell_type": "code",
   "metadata": {},
   "source": [
    "# Importer les bibliothèques nécessaires"
   ]
  },
  {
   "cell_type": "markdown",
   "metadata": {},
   "source": [
    "## Problème d'Overflow\n\nL'overflow se produit lorsque le résultat d'une opération dépasse la plage de valeurs d'un type de données donné. Voici un exemple simple :"
   ]
  },
  {
   "cell_type": "code",
   "metadata": {},
   "source": [
    # Exemple de débordement
    x = 1e308
    y = 1e308
    z = x + y
    z
   ]
  },
  {
   "cell_type": "markdown",
   "metadata": {},
   "source": [
    "Ici, l'addition de `x` et `y` provoque un débordement car le résultat dépasse la plage de valeurs représentable."
   ]
  },
  {
   "cell_type": "markdown",
   "metadata": {},
   "source": [
    "### Utilisation de logarithmes\n\nPour éviter le débordement dans de tels cas, nous pouvons utiliser des logarithmes :"
   ]
  },
  {
   "cell_type": "code",
   "metadata": {},
   "source": [
    import math
    
    # Utiliser des logarithmes pour additionner les nombres
    log_x = math.log(x)
    log_y = math.log(y)
    log_z = log_x + log_y
    result = math.exp(log_z)
    result
   ]
  },
  {
   "cell_type": "markdown",
   "metadata": {},
   "source": [
    "Ici, nous utilisons des logarithmes pour éviter le débordement et ensuite revenons au résultat d'origine en prenant l'exponentielle."
   ]
  },
  {
   "cell_type": "markdown",
   "metadata": {},
   "source": [
    "## Problème d'Underflow\n\nL'underflow se produit lorsque le résultat d'une opération est trop petit pour être représenté. Voici un exemple :"
   ]
  },
  {
   "cell_type": "code",
   "metadata": {},
   "source": [
    # Exemple de sous-débordement
    a = 1e-308
    b = 1e-308
    c = a * b
    c
   ]
  },
  {
   "cell_type": "markdown",
   "metadata": {},
   "source": [
    "Ici, la multiplication de `a` et `b` provoque un sous-débordement car le résultat est proche de zéro."
   ]
  },
  {
   "cell_type": "markdown",
   "metadata": {},
   "source": [
    "### Éviter la soustraction de nombres proches de zéro\n\nPour éviter l'underflow, évitez les soustractions de nombres très proches de zéro :"
   ]
  },
  {
   "cell_type": "code",
   "metadata": {},
   "source": [
    # Éviter la soustraction de nombres proches de zéro
    if a < 1e-100 or b < 1e-100:
        result = 0.0
    else:
        result = a * b
    result
   ]
  },
  {
   "cell_type": "markdown",
   "metadata": {},
   "source": [
    "Ici, nous vérifions si les nombres sont très proches de zéro avant de les multiplier pour éviter l'underflow."
   ]
  },
  {
   "cell_type": "markdown",
   "metadata": {},
   "source": [
    "Ceci est un exemple simplifié d'une notebook Jupyter qui explique les problèmes d'overflow et d'underflow. Vous pouvez ajouter d'autres exemples, des explications plus détaillées, des graphiques, etc., pour illustrer davantage ces concepts."
   ]
  }
 ],
 "metadata": {},
 "nbformat": 4,
 "nbformat_minor": 2
}
