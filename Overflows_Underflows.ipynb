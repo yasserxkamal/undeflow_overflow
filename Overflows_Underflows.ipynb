{
  "nbformat": 4,
  "nbformat_minor": 0,
  "metadata": {
    "colab": {
      "provenance": []
    },
    "kernelspec": {
      "name": "python3",
      "display_name": "Python 3"
    },
    "language_info": {
      "name": "python"
    }
  },
  "cells": [
    {
      "cell_type": "markdown",
      "source": [
        "# Problématique des Overflows et Underflows avec la Fonction Softmax\n",
        "\n"
      ],
      "metadata": {
        "id": "8VfpEHx9saSc"
      }
    },
    {
      "cell_type": "markdown",
      "source": [
        "## Introduction\n",
        "Dans cette notebook, nous allons explorer la problématique des overflows et underflows en utilisant la fonction softmax comme exemple. La fonction softmax est couramment utilisée en machine learning et peut être sujette à ces problèmes. Nous allons également discuter de cinq approches pour gérer les overflows et les underflows.\n",
        "\n"
      ],
      "metadata": {
        "id": "i8ZtA_Ootfgr"
      }
    },
    {
      "cell_type": "markdown",
      "source": [
        "## La Fonction Softmax\n",
        "La fonction softmax est utilisée pour convertir un vecteur de nombres réels en une distribution de probabilité. Voici la formule de la fonction softmax :\n",
        "\n",
        "$$\n",
        "\\text{softmax}(x)_i = \\frac{e^{x_i}}{\\sum_{j=1}^{N} e^{x_j}}\n",
        "$$\n",
        "\n",
        "où $x$ est le vecteur d'entrée de taille $N$.\n"
      ],
      "metadata": {
        "id": "cRwKZjzztpZB"
      }
    },
    {
      "cell_type": "markdown",
      "source": [
        "### Exemple de Débordement\n",
        "Supposons que nous ayons un vecteur d'entrée avec des valeurs élevées, ce qui peut provoquer un débordement.\n",
        "\n"
      ],
      "metadata": {
        "id": "0zO9SHDPttZx"
      }
    },
    {
      "cell_type": "code",
      "execution_count": 2,
      "metadata": {
        "colab": {
          "base_uri": "https://localhost:8080/"
        },
        "id": "m_0tQnPksUgW",
        "outputId": "c3dc8612-a989-4f8c-f343-49ae198610ff"
      },
      "outputs": [
        {
          "output_type": "stream",
          "name": "stdout",
          "text": [
            "[nan nan nan]\n"
          ]
        },
        {
          "output_type": "stream",
          "name": "stderr",
          "text": [
            "<ipython-input-2-8a883999c231>:4: RuntimeWarning: overflow encountered in exp\n",
            "  softmax_result = np.exp(x) / np.sum(np.exp(x))\n",
            "<ipython-input-2-8a883999c231>:4: RuntimeWarning: invalid value encountered in divide\n",
            "  softmax_result = np.exp(x) / np.sum(np.exp(x))\n"
          ]
        }
      ],
      "source": [
        "import numpy as np\n",
        "\n",
        "x = np.array([1000, 1001, 1002])\n",
        "softmax_result = np.exp(x) / np.sum(np.exp(x))\n",
        "print(softmax_result)"
      ]
    },
    {
      "cell_type": "markdown",
      "source": [
        "\n",
        "\n",
        "Dans cet exemple, les valeurs de `x` sont très élevées, ce qui provoque un débordement et conduit à des résultats incorrects."
      ],
      "metadata": {
        "id": "u-y4ySuwt9QT"
      }
    },
    {
      "cell_type": "markdown",
      "source": [
        "### Exemple de Sous-Débordement\n",
        "Le sous-débordement peut se produire lorsque les valeurs du vecteur d'entrée sont très faibles."
      ],
      "metadata": {
        "id": "f54mubNcuBcB"
      }
    },
    {
      "cell_type": "code",
      "source": [
        "x = np.array([-1000, -1001, -1002])\n",
        "softmax_result = np.exp(x) / np.sum(np.exp(x))\n",
        "print(softmax_result)"
      ],
      "metadata": {
        "colab": {
          "base_uri": "https://localhost:8080/"
        },
        "id": "TOH0nMMEuAtD",
        "outputId": "1e6c32c8-550f-4eff-852f-e5c91a5ca3f2"
      },
      "execution_count": 3,
      "outputs": [
        {
          "output_type": "stream",
          "name": "stdout",
          "text": [
            "[nan nan nan]\n"
          ]
        },
        {
          "output_type": "stream",
          "name": "stderr",
          "text": [
            "<ipython-input-3-f40302214589>:2: RuntimeWarning: invalid value encountered in divide\n",
            "  softmax_result = np.exp(x) / np.sum(np.exp(x))\n"
          ]
        }
      ]
    },
    {
      "cell_type": "markdown",
      "source": [
        "Dans cet exemple, les valeurs de `x` sont très faibles, ce qui peut provoquer un sous-débordement et une perte de précision."
      ],
      "metadata": {
        "id": "HaUaCQlquZIW"
      }
    },
    {
      "cell_type": "markdown",
      "source": [
        "## Solutions pour les Overflows et Underflows\n",
        "\n"
      ],
      "metadata": {
        "id": "0Qu8r7amudEN"
      }
    },
    {
      "cell_type": "markdown",
      "source": [
        "### 1. Utilisation de la Propriété d'Invariance de la Fonction Softmax\n",
        "La fonction softmax est invariante à l'ajout d'une constante à tous les éléments du vecteur d'entrée. Vous pouvez utiliser cette propriété pour éviter le débordement."
      ],
      "metadata": {
        "id": "yIBqk5Phufjd"
      }
    },
    {
      "cell_type": "code",
      "source": [
        "x = np.array([1000, 1001, 1002])\n",
        "x -= np.max(x)  # Soustraire le maximum pour éviter le débordement\n",
        "softmax_result = np.exp(x) / np.sum(np.exp(x))\n",
        "print(softmax_result)"
      ],
      "metadata": {
        "colab": {
          "base_uri": "https://localhost:8080/"
        },
        "id": "PcQyqUm_uJ8i",
        "outputId": "96dc7bf1-7bcd-4975-f0ae-52ca1880e89b"
      },
      "execution_count": 4,
      "outputs": [
        {
          "output_type": "stream",
          "name": "stdout",
          "text": [
            "[0.09003057 0.24472847 0.66524096]\n"
          ]
        }
      ]
    },
    {
      "cell_type": "markdown",
      "source": [
        "\n",
        "\n",
        "### 2. Utilisation de la Stabilité Numérique\n",
        "La stabilité numérique est une technique qui garantit que le calcul de la somme dans la fonction softmax est stable.\n"
      ],
      "metadata": {
        "id": "-WrW2-QPui0w"
      }
    },
    {
      "cell_type": "code",
      "source": [
        "x = np.array([1000, 1001, 1002])\n",
        "exp_x = np.exp(x - np.max(x))  # Stabilité numérique\n",
        "softmax_result = exp_x / np.sum(exp_x)\n",
        "print(softmax_result)"
      ],
      "metadata": {
        "colab": {
          "base_uri": "https://localhost:8080/"
        },
        "id": "6mHN2gz8vAJC",
        "outputId": "9c0b5321-efce-423c-b213-7f2faa9cfba4"
      },
      "execution_count": 5,
      "outputs": [
        {
          "output_type": "stream",
          "name": "stdout",
          "text": [
            "[0.09003057 0.24472847 0.66524096]\n"
          ]
        }
      ]
    },
    {
      "cell_type": "markdown",
      "source": [
        "### 3. Échelle Logarithmique\n",
        "Utilisez l'échelle logarithmique pour éviter les débordements potentiels."
      ],
      "metadata": {
        "id": "Pj4MThlfuz6J"
      }
    },
    {
      "cell_type": "code",
      "source": [
        "x = np.array([1000, 1001, 1002])\n",
        "log_softmax = x - np.max(x) - np.log(np.sum(np.exp(x - np.max(x)))\n",
        "softmax_result = np.exp(log_softmax)\n",
        "print(softmax_result)"
      ],
      "metadata": {
        "id": "oB1xn6w8vJv3"
      },
      "execution_count": null,
      "outputs": []
    },
    {
      "cell_type": "markdown",
      "source": [
        "### 4. Utilisation de Bibliothèques Spécialisées\n",
        "Des bibliothèques comme TensorFlow et PyTorch fournissent des fonctions softmax robustes qui gèrent automatiquement les problèmes de débordement et de stabilité numérique.\n"
      ],
      "metadata": {
        "id": "dJo49Hw7vHJn"
      }
    },
    {
      "cell_type": "code",
      "source": [
        "import tensorflow as tf\n",
        "\n",
        "x = np.array([1000, 1001, 1002], dtype=np.float32)\n",
        "softmax_result = tf.nn.softmax(x)"
      ],
      "metadata": {
        "id": "6m2HMfHqvU5c"
      },
      "execution_count": 6,
      "outputs": []
    },
    {
      "cell_type": "markdown",
      "source": [
        "## Conclusion\n",
        "Les overflows et underflows sont des problèmes courants lors de l'utilisation de fonctions mathématiques, comme la fonction softmax. Les techniques de gestion de la stabilité numérique, l'utilisation de bibliothèques spécialisées et la réduction de la précision sont des approches importantes pour éviter ces problèmes et obtenir des résultats précis."
      ],
      "metadata": {
        "id": "LfLZQFx9vgp1"
      }
    },
    {
      "cell_type": "code",
      "source": [],
      "metadata": {
        "id": "TBLt_TIWutHi"
      },
      "execution_count": null,
      "outputs": []
    }
  ]
}